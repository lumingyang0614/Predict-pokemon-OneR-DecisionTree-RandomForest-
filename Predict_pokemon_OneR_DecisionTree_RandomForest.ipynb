{
  "nbformat": 4,
  "nbformat_minor": 0,
  "metadata": {
    "colab": {
      "name": "Predict-pokemon-OneR-DecisionTree-RandomForest",
      "provenance": [],
      "collapsed_sections": []
    },
    "kernelspec": {
      "name": "python3",
      "display_name": "Python 3"
    },
    "language_info": {
      "name": "python"
    }
  },
  "cells": [
    {
      "cell_type": "code",
      "execution_count": 34,
      "metadata": {
        "id": "xETQUsjnLvub"
      },
      "outputs": [],
      "source": [
        "# preset functions and imports !!!caution don't modify!!!\n",
        "from sklearn.metrics import mean_absolute_error\n",
        "from sklearn.tree import DecisionTreeClassifier, export_graphviz\n",
        "from sklearn.model_selection import train_test_split\n",
        "from sklearn.ensemble import RandomForestClassifier\n",
        "from numpy import random\n",
        "import pandas as pd\n",
        "import os\n",
        "import numpy as np\n",
        "import graphviz\n",
        "import re\n",
        "from sklearn.preprocessing import LabelEncoder\n",
        "os.getcwd()\n",
        "\n",
        "def xs_y(df):\n",
        "    xs = df[cats+conts].copy()\n",
        "    return xs,df[dep] if dep in df else None\n",
        "\n",
        "def _side_score(side, y):\n",
        "    tot = side.sum()\n",
        "    if tot<=1: return 0\n",
        "    return y[side].std()*tot\n",
        "\n",
        "def score(col, y, split):\n",
        "    lhs = col<=split\n",
        "    return (_side_score(lhs,y) + _side_score(~lhs,y))/len(y)\n",
        "\n",
        "def min_col(df, nm):\n",
        "    col,y = df[nm],df[dep]\n",
        "    unq = col.dropna().unique()\n",
        "    scores = np.array([score(col, y, o) for o in unq if not np.isnan(o)])\n",
        "    idx = scores.argmin()\n",
        "    return unq[idx],scores[idx]\n",
        "\n",
        "def draw_tree(t, df, size=10, ratio=0.6, precision=2, **kwargs):\n",
        "    s=export_graphviz(t, out_file=None, feature_names=df.columns, filled=True, rounded=True,\n",
        "                      special_characters=True, rotate=False, precision=precision, **kwargs)\n",
        "    return graphviz.Source(re.sub('Tree {', f'Tree {{ size={size}; ratio={ratio}', s))"
      ]
    },
    {
      "cell_type": "code",
      "source": [
        "# download dataset\n",
        "!wget https://gist.githubusercontent.com/armgilles/194bcff35001e7eb53a2a8b441e8b2c6/raw/92200bc0a673d5ce2110aaad4544ed6c4010f687/pokemon.csv"
      ],
      "metadata": {
        "id": "GZ2cfk8N-cti",
        "colab": {
          "base_uri": "https://localhost:8080/"
        },
        "outputId": "7631e7d5-d92a-4ff6-eb43-15b89efa8845"
      },
      "execution_count": 35,
      "outputs": [
        {
          "output_type": "stream",
          "name": "stdout",
          "text": [
            "--2022-08-23 07:14:01--  https://gist.githubusercontent.com/armgilles/194bcff35001e7eb53a2a8b441e8b2c6/raw/92200bc0a673d5ce2110aaad4544ed6c4010f687/pokemon.csv\n",
            "Resolving gist.githubusercontent.com (gist.githubusercontent.com)... 185.199.108.133, 185.199.109.133, 185.199.110.133, ...\n",
            "Connecting to gist.githubusercontent.com (gist.githubusercontent.com)|185.199.108.133|:443... connected.\n",
            "HTTP request sent, awaiting response... 200 OK\n",
            "Length: 44028 (43K) [text/plain]\n",
            "Saving to: ‘pokemon.csv.2’\n",
            "\n",
            "pokemon.csv.2       100%[===================>]  43.00K  --.-KB/s    in 0.01s   \n",
            "\n",
            "2022-08-23 07:14:01 (3.49 MB/s) - ‘pokemon.csv.2’ saved [44028/44028]\n",
            "\n"
          ]
        }
      ]
    },
    {
      "cell_type": "code",
      "source": [
        "# read csv\n",
        "df = pd.read_csv('./pokemon.csv')\n",
        "labelencoder = LabelEncoder()\n",
        "df=pd.DataFrame(df)\n",
        "df['Legendary'] = labelencoder.fit_transform(df['Legendary'])\n",
        "df"
      ],
      "metadata": {
        "id": "V8OrbyS9L0xi",
        "colab": {
          "base_uri": "https://localhost:8080/",
          "height": 554
        },
        "outputId": "7a51b8b9-97fd-46db-c7e9-9588d497725f"
      },
      "execution_count": 36,
      "outputs": [
        {
          "output_type": "execute_result",
          "data": {
            "text/plain": [
              "       #                   Name   Type 1  Type 2  Total  HP  Attack  Defense  \\\n",
              "0      1              Bulbasaur    Grass  Poison    318  45      49       49   \n",
              "1      2                Ivysaur    Grass  Poison    405  60      62       63   \n",
              "2      3               Venusaur    Grass  Poison    525  80      82       83   \n",
              "3      3  VenusaurMega Venusaur    Grass  Poison    625  80     100      123   \n",
              "4      4             Charmander     Fire     NaN    309  39      52       43   \n",
              "..   ...                    ...      ...     ...    ...  ..     ...      ...   \n",
              "795  719                Diancie     Rock   Fairy    600  50     100      150   \n",
              "796  719    DiancieMega Diancie     Rock   Fairy    700  50     160      110   \n",
              "797  720    HoopaHoopa Confined  Psychic   Ghost    600  80     110       60   \n",
              "798  720     HoopaHoopa Unbound  Psychic    Dark    680  80     160       60   \n",
              "799  721              Volcanion     Fire   Water    600  80     110      120   \n",
              "\n",
              "     Sp. Atk  Sp. Def  Speed  Generation  Legendary  \n",
              "0         65       65     45           1          0  \n",
              "1         80       80     60           1          0  \n",
              "2        100      100     80           1          0  \n",
              "3        122      120     80           1          0  \n",
              "4         60       50     65           1          0  \n",
              "..       ...      ...    ...         ...        ...  \n",
              "795      100      150     50           6          1  \n",
              "796      160      110    110           6          1  \n",
              "797      150      130     70           6          1  \n",
              "798      170      130     80           6          1  \n",
              "799      130       90     70           6          1  \n",
              "\n",
              "[800 rows x 13 columns]"
            ],
            "text/html": [
              "\n",
              "  <div id=\"df-f3bad93b-a3d6-4ff2-9dc7-228615f8689b\">\n",
              "    <div class=\"colab-df-container\">\n",
              "      <div>\n",
              "<style scoped>\n",
              "    .dataframe tbody tr th:only-of-type {\n",
              "        vertical-align: middle;\n",
              "    }\n",
              "\n",
              "    .dataframe tbody tr th {\n",
              "        vertical-align: top;\n",
              "    }\n",
              "\n",
              "    .dataframe thead th {\n",
              "        text-align: right;\n",
              "    }\n",
              "</style>\n",
              "<table border=\"1\" class=\"dataframe\">\n",
              "  <thead>\n",
              "    <tr style=\"text-align: right;\">\n",
              "      <th></th>\n",
              "      <th>#</th>\n",
              "      <th>Name</th>\n",
              "      <th>Type 1</th>\n",
              "      <th>Type 2</th>\n",
              "      <th>Total</th>\n",
              "      <th>HP</th>\n",
              "      <th>Attack</th>\n",
              "      <th>Defense</th>\n",
              "      <th>Sp. Atk</th>\n",
              "      <th>Sp. Def</th>\n",
              "      <th>Speed</th>\n",
              "      <th>Generation</th>\n",
              "      <th>Legendary</th>\n",
              "    </tr>\n",
              "  </thead>\n",
              "  <tbody>\n",
              "    <tr>\n",
              "      <th>0</th>\n",
              "      <td>1</td>\n",
              "      <td>Bulbasaur</td>\n",
              "      <td>Grass</td>\n",
              "      <td>Poison</td>\n",
              "      <td>318</td>\n",
              "      <td>45</td>\n",
              "      <td>49</td>\n",
              "      <td>49</td>\n",
              "      <td>65</td>\n",
              "      <td>65</td>\n",
              "      <td>45</td>\n",
              "      <td>1</td>\n",
              "      <td>0</td>\n",
              "    </tr>\n",
              "    <tr>\n",
              "      <th>1</th>\n",
              "      <td>2</td>\n",
              "      <td>Ivysaur</td>\n",
              "      <td>Grass</td>\n",
              "      <td>Poison</td>\n",
              "      <td>405</td>\n",
              "      <td>60</td>\n",
              "      <td>62</td>\n",
              "      <td>63</td>\n",
              "      <td>80</td>\n",
              "      <td>80</td>\n",
              "      <td>60</td>\n",
              "      <td>1</td>\n",
              "      <td>0</td>\n",
              "    </tr>\n",
              "    <tr>\n",
              "      <th>2</th>\n",
              "      <td>3</td>\n",
              "      <td>Venusaur</td>\n",
              "      <td>Grass</td>\n",
              "      <td>Poison</td>\n",
              "      <td>525</td>\n",
              "      <td>80</td>\n",
              "      <td>82</td>\n",
              "      <td>83</td>\n",
              "      <td>100</td>\n",
              "      <td>100</td>\n",
              "      <td>80</td>\n",
              "      <td>1</td>\n",
              "      <td>0</td>\n",
              "    </tr>\n",
              "    <tr>\n",
              "      <th>3</th>\n",
              "      <td>3</td>\n",
              "      <td>VenusaurMega Venusaur</td>\n",
              "      <td>Grass</td>\n",
              "      <td>Poison</td>\n",
              "      <td>625</td>\n",
              "      <td>80</td>\n",
              "      <td>100</td>\n",
              "      <td>123</td>\n",
              "      <td>122</td>\n",
              "      <td>120</td>\n",
              "      <td>80</td>\n",
              "      <td>1</td>\n",
              "      <td>0</td>\n",
              "    </tr>\n",
              "    <tr>\n",
              "      <th>4</th>\n",
              "      <td>4</td>\n",
              "      <td>Charmander</td>\n",
              "      <td>Fire</td>\n",
              "      <td>NaN</td>\n",
              "      <td>309</td>\n",
              "      <td>39</td>\n",
              "      <td>52</td>\n",
              "      <td>43</td>\n",
              "      <td>60</td>\n",
              "      <td>50</td>\n",
              "      <td>65</td>\n",
              "      <td>1</td>\n",
              "      <td>0</td>\n",
              "    </tr>\n",
              "    <tr>\n",
              "      <th>...</th>\n",
              "      <td>...</td>\n",
              "      <td>...</td>\n",
              "      <td>...</td>\n",
              "      <td>...</td>\n",
              "      <td>...</td>\n",
              "      <td>...</td>\n",
              "      <td>...</td>\n",
              "      <td>...</td>\n",
              "      <td>...</td>\n",
              "      <td>...</td>\n",
              "      <td>...</td>\n",
              "      <td>...</td>\n",
              "      <td>...</td>\n",
              "    </tr>\n",
              "    <tr>\n",
              "      <th>795</th>\n",
              "      <td>719</td>\n",
              "      <td>Diancie</td>\n",
              "      <td>Rock</td>\n",
              "      <td>Fairy</td>\n",
              "      <td>600</td>\n",
              "      <td>50</td>\n",
              "      <td>100</td>\n",
              "      <td>150</td>\n",
              "      <td>100</td>\n",
              "      <td>150</td>\n",
              "      <td>50</td>\n",
              "      <td>6</td>\n",
              "      <td>1</td>\n",
              "    </tr>\n",
              "    <tr>\n",
              "      <th>796</th>\n",
              "      <td>719</td>\n",
              "      <td>DiancieMega Diancie</td>\n",
              "      <td>Rock</td>\n",
              "      <td>Fairy</td>\n",
              "      <td>700</td>\n",
              "      <td>50</td>\n",
              "      <td>160</td>\n",
              "      <td>110</td>\n",
              "      <td>160</td>\n",
              "      <td>110</td>\n",
              "      <td>110</td>\n",
              "      <td>6</td>\n",
              "      <td>1</td>\n",
              "    </tr>\n",
              "    <tr>\n",
              "      <th>797</th>\n",
              "      <td>720</td>\n",
              "      <td>HoopaHoopa Confined</td>\n",
              "      <td>Psychic</td>\n",
              "      <td>Ghost</td>\n",
              "      <td>600</td>\n",
              "      <td>80</td>\n",
              "      <td>110</td>\n",
              "      <td>60</td>\n",
              "      <td>150</td>\n",
              "      <td>130</td>\n",
              "      <td>70</td>\n",
              "      <td>6</td>\n",
              "      <td>1</td>\n",
              "    </tr>\n",
              "    <tr>\n",
              "      <th>798</th>\n",
              "      <td>720</td>\n",
              "      <td>HoopaHoopa Unbound</td>\n",
              "      <td>Psychic</td>\n",
              "      <td>Dark</td>\n",
              "      <td>680</td>\n",
              "      <td>80</td>\n",
              "      <td>160</td>\n",
              "      <td>60</td>\n",
              "      <td>170</td>\n",
              "      <td>130</td>\n",
              "      <td>80</td>\n",
              "      <td>6</td>\n",
              "      <td>1</td>\n",
              "    </tr>\n",
              "    <tr>\n",
              "      <th>799</th>\n",
              "      <td>721</td>\n",
              "      <td>Volcanion</td>\n",
              "      <td>Fire</td>\n",
              "      <td>Water</td>\n",
              "      <td>600</td>\n",
              "      <td>80</td>\n",
              "      <td>110</td>\n",
              "      <td>120</td>\n",
              "      <td>130</td>\n",
              "      <td>90</td>\n",
              "      <td>70</td>\n",
              "      <td>6</td>\n",
              "      <td>1</td>\n",
              "    </tr>\n",
              "  </tbody>\n",
              "</table>\n",
              "<p>800 rows × 13 columns</p>\n",
              "</div>\n",
              "      <button class=\"colab-df-convert\" onclick=\"convertToInteractive('df-f3bad93b-a3d6-4ff2-9dc7-228615f8689b')\"\n",
              "              title=\"Convert this dataframe to an interactive table.\"\n",
              "              style=\"display:none;\">\n",
              "        \n",
              "  <svg xmlns=\"http://www.w3.org/2000/svg\" height=\"24px\"viewBox=\"0 0 24 24\"\n",
              "       width=\"24px\">\n",
              "    <path d=\"M0 0h24v24H0V0z\" fill=\"none\"/>\n",
              "    <path d=\"M18.56 5.44l.94 2.06.94-2.06 2.06-.94-2.06-.94-.94-2.06-.94 2.06-2.06.94zm-11 1L8.5 8.5l.94-2.06 2.06-.94-2.06-.94L8.5 2.5l-.94 2.06-2.06.94zm10 10l.94 2.06.94-2.06 2.06-.94-2.06-.94-.94-2.06-.94 2.06-2.06.94z\"/><path d=\"M17.41 7.96l-1.37-1.37c-.4-.4-.92-.59-1.43-.59-.52 0-1.04.2-1.43.59L10.3 9.45l-7.72 7.72c-.78.78-.78 2.05 0 2.83L4 21.41c.39.39.9.59 1.41.59.51 0 1.02-.2 1.41-.59l7.78-7.78 2.81-2.81c.8-.78.8-2.07 0-2.86zM5.41 20L4 18.59l7.72-7.72 1.47 1.35L5.41 20z\"/>\n",
              "  </svg>\n",
              "      </button>\n",
              "      \n",
              "  <style>\n",
              "    .colab-df-container {\n",
              "      display:flex;\n",
              "      flex-wrap:wrap;\n",
              "      gap: 12px;\n",
              "    }\n",
              "\n",
              "    .colab-df-convert {\n",
              "      background-color: #E8F0FE;\n",
              "      border: none;\n",
              "      border-radius: 50%;\n",
              "      cursor: pointer;\n",
              "      display: none;\n",
              "      fill: #1967D2;\n",
              "      height: 32px;\n",
              "      padding: 0 0 0 0;\n",
              "      width: 32px;\n",
              "    }\n",
              "\n",
              "    .colab-df-convert:hover {\n",
              "      background-color: #E2EBFA;\n",
              "      box-shadow: 0px 1px 2px rgba(60, 64, 67, 0.3), 0px 1px 3px 1px rgba(60, 64, 67, 0.15);\n",
              "      fill: #174EA6;\n",
              "    }\n",
              "\n",
              "    [theme=dark] .colab-df-convert {\n",
              "      background-color: #3B4455;\n",
              "      fill: #D2E3FC;\n",
              "    }\n",
              "\n",
              "    [theme=dark] .colab-df-convert:hover {\n",
              "      background-color: #434B5C;\n",
              "      box-shadow: 0px 1px 3px 1px rgba(0, 0, 0, 0.15);\n",
              "      filter: drop-shadow(0px 1px 2px rgba(0, 0, 0, 0.3));\n",
              "      fill: #FFFFFF;\n",
              "    }\n",
              "  </style>\n",
              "\n",
              "      <script>\n",
              "        const buttonEl =\n",
              "          document.querySelector('#df-f3bad93b-a3d6-4ff2-9dc7-228615f8689b button.colab-df-convert');\n",
              "        buttonEl.style.display =\n",
              "          google.colab.kernel.accessAllowed ? 'block' : 'none';\n",
              "\n",
              "        async function convertToInteractive(key) {\n",
              "          const element = document.querySelector('#df-f3bad93b-a3d6-4ff2-9dc7-228615f8689b');\n",
              "          const dataTable =\n",
              "            await google.colab.kernel.invokeFunction('convertToInteractive',\n",
              "                                                     [key], {});\n",
              "          if (!dataTable) return;\n",
              "\n",
              "          const docLinkHtml = 'Like what you see? Visit the ' +\n",
              "            '<a target=\"_blank\" href=https://colab.research.google.com/notebooks/data_table.ipynb>data table notebook</a>'\n",
              "            + ' to learn more about interactive tables.';\n",
              "          element.innerHTML = '';\n",
              "          dataTable['output_type'] = 'display_data';\n",
              "          await google.colab.output.renderOutput(dataTable, element);\n",
              "          const docLink = document.createElement('div');\n",
              "          docLink.innerHTML = docLinkHtml;\n",
              "          element.appendChild(docLink);\n",
              "        }\n",
              "      </script>\n",
              "    </div>\n",
              "  </div>\n",
              "  "
            ]
          },
          "metadata": {},
          "execution_count": 36
        }
      ]
    },
    {
      "cell_type": "code",
      "source": [
        "# get the mode of attributes\n",
        "modes = df.mode().iloc[0]\n",
        "modes"
      ],
      "metadata": {
        "id": "3h2kJKmrAT-n",
        "colab": {
          "base_uri": "https://localhost:8080/"
        },
        "outputId": "80513d58-183e-46e4-84a7-503fcb14c826"
      },
      "execution_count": 37,
      "outputs": [
        {
          "output_type": "execute_result",
          "data": {
            "text/plain": [
              "#                 479.0\n",
              "Name          Abomasnow\n",
              "Type 1            Water\n",
              "Type 2           Flying\n",
              "Total             600.0\n",
              "HP                 60.0\n",
              "Attack            100.0\n",
              "Defense            70.0\n",
              "Sp. Atk            60.0\n",
              "Sp. Def            80.0\n",
              "Speed              50.0\n",
              "Generation          1.0\n",
              "Legendary           0.0\n",
              "Name: 0, dtype: object"
            ]
          },
          "metadata": {},
          "execution_count": 37
        }
      ]
    },
    {
      "cell_type": "code",
      "source": [
        "# convert categorical attributes 類別轉數值012\n",
        "# ???\n",
        "\n",
        "labelencoder = LabelEncoder()\n",
        "df=pd.DataFrame(df)\n",
        "df['Type 1'] = labelencoder.fit_transform(df['Type 1'])\n",
        "df['Type 2'] = labelencoder.fit_transform(df['Type 2'])\n",
        "# ??? \n",
        "df"
      ],
      "metadata": {
        "id": "SnNFQJRaB0o0",
        "colab": {
          "base_uri": "https://localhost:8080/",
          "height": 554
        },
        "outputId": "5da8b182-2784-42f1-e702-e41b77cd9ac2"
      },
      "execution_count": 38,
      "outputs": [
        {
          "output_type": "execute_result",
          "data": {
            "text/plain": [
              "       #                   Name  Type 1  Type 2  Total  HP  Attack  Defense  \\\n",
              "0      1              Bulbasaur       9      13    318  45      49       49   \n",
              "1      2                Ivysaur       9      13    405  60      62       63   \n",
              "2      3               Venusaur       9      13    525  80      82       83   \n",
              "3      3  VenusaurMega Venusaur       9      13    625  80     100      123   \n",
              "4      4             Charmander       6      18    309  39      52       43   \n",
              "..   ...                    ...     ...     ...    ...  ..     ...      ...   \n",
              "795  719                Diancie      15       4    600  50     100      150   \n",
              "796  719    DiancieMega Diancie      15       4    700  50     160      110   \n",
              "797  720    HoopaHoopa Confined      14       8    600  80     110       60   \n",
              "798  720     HoopaHoopa Unbound      14       1    680  80     160       60   \n",
              "799  721              Volcanion       6      17    600  80     110      120   \n",
              "\n",
              "     Sp. Atk  Sp. Def  Speed  Generation  Legendary  \n",
              "0         65       65     45           1          0  \n",
              "1         80       80     60           1          0  \n",
              "2        100      100     80           1          0  \n",
              "3        122      120     80           1          0  \n",
              "4         60       50     65           1          0  \n",
              "..       ...      ...    ...         ...        ...  \n",
              "795      100      150     50           6          1  \n",
              "796      160      110    110           6          1  \n",
              "797      150      130     70           6          1  \n",
              "798      170      130     80           6          1  \n",
              "799      130       90     70           6          1  \n",
              "\n",
              "[800 rows x 13 columns]"
            ],
            "text/html": [
              "\n",
              "  <div id=\"df-dd12eeeb-fc2e-4942-bfe1-0ba5d2957779\">\n",
              "    <div class=\"colab-df-container\">\n",
              "      <div>\n",
              "<style scoped>\n",
              "    .dataframe tbody tr th:only-of-type {\n",
              "        vertical-align: middle;\n",
              "    }\n",
              "\n",
              "    .dataframe tbody tr th {\n",
              "        vertical-align: top;\n",
              "    }\n",
              "\n",
              "    .dataframe thead th {\n",
              "        text-align: right;\n",
              "    }\n",
              "</style>\n",
              "<table border=\"1\" class=\"dataframe\">\n",
              "  <thead>\n",
              "    <tr style=\"text-align: right;\">\n",
              "      <th></th>\n",
              "      <th>#</th>\n",
              "      <th>Name</th>\n",
              "      <th>Type 1</th>\n",
              "      <th>Type 2</th>\n",
              "      <th>Total</th>\n",
              "      <th>HP</th>\n",
              "      <th>Attack</th>\n",
              "      <th>Defense</th>\n",
              "      <th>Sp. Atk</th>\n",
              "      <th>Sp. Def</th>\n",
              "      <th>Speed</th>\n",
              "      <th>Generation</th>\n",
              "      <th>Legendary</th>\n",
              "    </tr>\n",
              "  </thead>\n",
              "  <tbody>\n",
              "    <tr>\n",
              "      <th>0</th>\n",
              "      <td>1</td>\n",
              "      <td>Bulbasaur</td>\n",
              "      <td>9</td>\n",
              "      <td>13</td>\n",
              "      <td>318</td>\n",
              "      <td>45</td>\n",
              "      <td>49</td>\n",
              "      <td>49</td>\n",
              "      <td>65</td>\n",
              "      <td>65</td>\n",
              "      <td>45</td>\n",
              "      <td>1</td>\n",
              "      <td>0</td>\n",
              "    </tr>\n",
              "    <tr>\n",
              "      <th>1</th>\n",
              "      <td>2</td>\n",
              "      <td>Ivysaur</td>\n",
              "      <td>9</td>\n",
              "      <td>13</td>\n",
              "      <td>405</td>\n",
              "      <td>60</td>\n",
              "      <td>62</td>\n",
              "      <td>63</td>\n",
              "      <td>80</td>\n",
              "      <td>80</td>\n",
              "      <td>60</td>\n",
              "      <td>1</td>\n",
              "      <td>0</td>\n",
              "    </tr>\n",
              "    <tr>\n",
              "      <th>2</th>\n",
              "      <td>3</td>\n",
              "      <td>Venusaur</td>\n",
              "      <td>9</td>\n",
              "      <td>13</td>\n",
              "      <td>525</td>\n",
              "      <td>80</td>\n",
              "      <td>82</td>\n",
              "      <td>83</td>\n",
              "      <td>100</td>\n",
              "      <td>100</td>\n",
              "      <td>80</td>\n",
              "      <td>1</td>\n",
              "      <td>0</td>\n",
              "    </tr>\n",
              "    <tr>\n",
              "      <th>3</th>\n",
              "      <td>3</td>\n",
              "      <td>VenusaurMega Venusaur</td>\n",
              "      <td>9</td>\n",
              "      <td>13</td>\n",
              "      <td>625</td>\n",
              "      <td>80</td>\n",
              "      <td>100</td>\n",
              "      <td>123</td>\n",
              "      <td>122</td>\n",
              "      <td>120</td>\n",
              "      <td>80</td>\n",
              "      <td>1</td>\n",
              "      <td>0</td>\n",
              "    </tr>\n",
              "    <tr>\n",
              "      <th>4</th>\n",
              "      <td>4</td>\n",
              "      <td>Charmander</td>\n",
              "      <td>6</td>\n",
              "      <td>18</td>\n",
              "      <td>309</td>\n",
              "      <td>39</td>\n",
              "      <td>52</td>\n",
              "      <td>43</td>\n",
              "      <td>60</td>\n",
              "      <td>50</td>\n",
              "      <td>65</td>\n",
              "      <td>1</td>\n",
              "      <td>0</td>\n",
              "    </tr>\n",
              "    <tr>\n",
              "      <th>...</th>\n",
              "      <td>...</td>\n",
              "      <td>...</td>\n",
              "      <td>...</td>\n",
              "      <td>...</td>\n",
              "      <td>...</td>\n",
              "      <td>...</td>\n",
              "      <td>...</td>\n",
              "      <td>...</td>\n",
              "      <td>...</td>\n",
              "      <td>...</td>\n",
              "      <td>...</td>\n",
              "      <td>...</td>\n",
              "      <td>...</td>\n",
              "    </tr>\n",
              "    <tr>\n",
              "      <th>795</th>\n",
              "      <td>719</td>\n",
              "      <td>Diancie</td>\n",
              "      <td>15</td>\n",
              "      <td>4</td>\n",
              "      <td>600</td>\n",
              "      <td>50</td>\n",
              "      <td>100</td>\n",
              "      <td>150</td>\n",
              "      <td>100</td>\n",
              "      <td>150</td>\n",
              "      <td>50</td>\n",
              "      <td>6</td>\n",
              "      <td>1</td>\n",
              "    </tr>\n",
              "    <tr>\n",
              "      <th>796</th>\n",
              "      <td>719</td>\n",
              "      <td>DiancieMega Diancie</td>\n",
              "      <td>15</td>\n",
              "      <td>4</td>\n",
              "      <td>700</td>\n",
              "      <td>50</td>\n",
              "      <td>160</td>\n",
              "      <td>110</td>\n",
              "      <td>160</td>\n",
              "      <td>110</td>\n",
              "      <td>110</td>\n",
              "      <td>6</td>\n",
              "      <td>1</td>\n",
              "    </tr>\n",
              "    <tr>\n",
              "      <th>797</th>\n",
              "      <td>720</td>\n",
              "      <td>HoopaHoopa Confined</td>\n",
              "      <td>14</td>\n",
              "      <td>8</td>\n",
              "      <td>600</td>\n",
              "      <td>80</td>\n",
              "      <td>110</td>\n",
              "      <td>60</td>\n",
              "      <td>150</td>\n",
              "      <td>130</td>\n",
              "      <td>70</td>\n",
              "      <td>6</td>\n",
              "      <td>1</td>\n",
              "    </tr>\n",
              "    <tr>\n",
              "      <th>798</th>\n",
              "      <td>720</td>\n",
              "      <td>HoopaHoopa Unbound</td>\n",
              "      <td>14</td>\n",
              "      <td>1</td>\n",
              "      <td>680</td>\n",
              "      <td>80</td>\n",
              "      <td>160</td>\n",
              "      <td>60</td>\n",
              "      <td>170</td>\n",
              "      <td>130</td>\n",
              "      <td>80</td>\n",
              "      <td>6</td>\n",
              "      <td>1</td>\n",
              "    </tr>\n",
              "    <tr>\n",
              "      <th>799</th>\n",
              "      <td>721</td>\n",
              "      <td>Volcanion</td>\n",
              "      <td>6</td>\n",
              "      <td>17</td>\n",
              "      <td>600</td>\n",
              "      <td>80</td>\n",
              "      <td>110</td>\n",
              "      <td>120</td>\n",
              "      <td>130</td>\n",
              "      <td>90</td>\n",
              "      <td>70</td>\n",
              "      <td>6</td>\n",
              "      <td>1</td>\n",
              "    </tr>\n",
              "  </tbody>\n",
              "</table>\n",
              "<p>800 rows × 13 columns</p>\n",
              "</div>\n",
              "      <button class=\"colab-df-convert\" onclick=\"convertToInteractive('df-dd12eeeb-fc2e-4942-bfe1-0ba5d2957779')\"\n",
              "              title=\"Convert this dataframe to an interactive table.\"\n",
              "              style=\"display:none;\">\n",
              "        \n",
              "  <svg xmlns=\"http://www.w3.org/2000/svg\" height=\"24px\"viewBox=\"0 0 24 24\"\n",
              "       width=\"24px\">\n",
              "    <path d=\"M0 0h24v24H0V0z\" fill=\"none\"/>\n",
              "    <path d=\"M18.56 5.44l.94 2.06.94-2.06 2.06-.94-2.06-.94-.94-2.06-.94 2.06-2.06.94zm-11 1L8.5 8.5l.94-2.06 2.06-.94-2.06-.94L8.5 2.5l-.94 2.06-2.06.94zm10 10l.94 2.06.94-2.06 2.06-.94-2.06-.94-.94-2.06-.94 2.06-2.06.94z\"/><path d=\"M17.41 7.96l-1.37-1.37c-.4-.4-.92-.59-1.43-.59-.52 0-1.04.2-1.43.59L10.3 9.45l-7.72 7.72c-.78.78-.78 2.05 0 2.83L4 21.41c.39.39.9.59 1.41.59.51 0 1.02-.2 1.41-.59l7.78-7.78 2.81-2.81c.8-.78.8-2.07 0-2.86zM5.41 20L4 18.59l7.72-7.72 1.47 1.35L5.41 20z\"/>\n",
              "  </svg>\n",
              "      </button>\n",
              "      \n",
              "  <style>\n",
              "    .colab-df-container {\n",
              "      display:flex;\n",
              "      flex-wrap:wrap;\n",
              "      gap: 12px;\n",
              "    }\n",
              "\n",
              "    .colab-df-convert {\n",
              "      background-color: #E8F0FE;\n",
              "      border: none;\n",
              "      border-radius: 50%;\n",
              "      cursor: pointer;\n",
              "      display: none;\n",
              "      fill: #1967D2;\n",
              "      height: 32px;\n",
              "      padding: 0 0 0 0;\n",
              "      width: 32px;\n",
              "    }\n",
              "\n",
              "    .colab-df-convert:hover {\n",
              "      background-color: #E2EBFA;\n",
              "      box-shadow: 0px 1px 2px rgba(60, 64, 67, 0.3), 0px 1px 3px 1px rgba(60, 64, 67, 0.15);\n",
              "      fill: #174EA6;\n",
              "    }\n",
              "\n",
              "    [theme=dark] .colab-df-convert {\n",
              "      background-color: #3B4455;\n",
              "      fill: #D2E3FC;\n",
              "    }\n",
              "\n",
              "    [theme=dark] .colab-df-convert:hover {\n",
              "      background-color: #434B5C;\n",
              "      box-shadow: 0px 1px 3px 1px rgba(0, 0, 0, 0.15);\n",
              "      filter: drop-shadow(0px 1px 2px rgba(0, 0, 0, 0.3));\n",
              "      fill: #FFFFFF;\n",
              "    }\n",
              "  </style>\n",
              "\n",
              "      <script>\n",
              "        const buttonEl =\n",
              "          document.querySelector('#df-dd12eeeb-fc2e-4942-bfe1-0ba5d2957779 button.colab-df-convert');\n",
              "        buttonEl.style.display =\n",
              "          google.colab.kernel.accessAllowed ? 'block' : 'none';\n",
              "\n",
              "        async function convertToInteractive(key) {\n",
              "          const element = document.querySelector('#df-dd12eeeb-fc2e-4942-bfe1-0ba5d2957779');\n",
              "          const dataTable =\n",
              "            await google.colab.kernel.invokeFunction('convertToInteractive',\n",
              "                                                     [key], {});\n",
              "          if (!dataTable) return;\n",
              "\n",
              "          const docLinkHtml = 'Like what you see? Visit the ' +\n",
              "            '<a target=\"_blank\" href=https://colab.research.google.com/notebooks/data_table.ipynb>data table notebook</a>'\n",
              "            + ' to learn more about interactive tables.';\n",
              "          element.innerHTML = '';\n",
              "          dataTable['output_type'] = 'display_data';\n",
              "          await google.colab.output.renderOutput(dataTable, element);\n",
              "          const docLink = document.createElement('div');\n",
              "          docLink.innerHTML = docLinkHtml;\n",
              "          element.appendChild(docLink);\n",
              "        }\n",
              "      </script>\n",
              "    </div>\n",
              "  </div>\n",
              "  "
            ]
          },
          "metadata": {},
          "execution_count": 38
        }
      ]
    },
    {
      "cell_type": "markdown",
      "source": [
        ""
      ],
      "metadata": {
        "id": "6vw3TA1itVrB"
      }
    },
    {
      "cell_type": "code",
      "source": [
        "# set categorical attributes and continuous attributes also the dependant attribute 那些是類別 哪些是數值\n",
        "\n",
        "cats = ['Type 1','Type 2']\n",
        "conts = ['Total','HP','Attack','Defense','Sp. Atk','Sp. Def','Speed']\n",
        "dep = \"Legendary\""
      ],
      "metadata": {
        "id": "LukaiWwjMPlS"
      },
      "execution_count": 39,
      "outputs": []
    },
    {
      "cell_type": "markdown",
      "source": [
        "import seaborn as sns\n",
        "\n",
        "fig,axs = plt.subplots(1,2, figsize=(11,5))\n",
        "sns.barplot(data=df, y=dep, x=\"Sex\", ax=axs[0]).set(title=\"Survival rate\")\n",
        "sns.countplot(data=df, x=\"Sex\", ax=axs[1]).set(title=\"Histogram\");"
      ],
      "metadata": {
        "id": "q9Mvd9Qw12oX"
      }
    },
    {
      "cell_type": "code",
      "source": [
        "# splite data into trainning and validation sets.\n",
        "random.seed(42)\n",
        "trn_df, val_df = train_test_split(df, test_size=0.25)\n",
        "trn_df[cats] = trn_df[cats].astype(\"category\")\n",
        "val_df[cats] = val_df[cats].astype(\"category\")\n",
        "trn_df[cats] = trn_df[cats].apply(lambda x: x.cat.codes)\n",
        "val_df[cats] = val_df[cats].apply(lambda x: x.cat.codes)"
      ],
      "metadata": {
        "id": "29hvct8RBFl8"
      },
      "execution_count": 40,
      "outputs": []
    },
    {
      "cell_type": "code",
      "source": [
        "# split independent/depedent attributes from training/validation datas.\n",
        "trn_xs,trn_y = xs_y(trn_df)\n",
        "val_xs,val_y = xs_y(val_df)\n",
        "from sklearn.metrics import mean_absolute_error\n",
        "preds = val_xs.Total>550\n",
        "mean_absolute_error(val_y, preds)"
      ],
      "metadata": {
        "id": "mxWsizHnCWdp",
        "colab": {
          "base_uri": "https://localhost:8080/"
        },
        "outputId": "10832c04-916c-488b-b12a-5e61b2bf8d09"
      },
      "execution_count": 41,
      "outputs": [
        {
          "output_type": "execute_result",
          "data": {
            "text/plain": [
              "0.075"
            ]
          },
          "metadata": {},
          "execution_count": 41
        }
      ]
    },
    {
      "cell_type": "code",
      "source": [
        "# OneR classifier\n",
        "OneR = {o: min_col(trn_df, o)for o in (cats+conts)}\n",
        "# show the best parameter/threshold for OneR classification\n",
        "print(\n",
        "    \"Best Parameter:\",\n",
        "    min_col(trn_df, \"Total\")\n",
        ")\n",
        "OneR"
      ],
      "metadata": {
        "id": "CbWDYOi2CmMz",
        "colab": {
          "base_uri": "https://localhost:8080/"
        },
        "outputId": "fd5fe72a-f2f6-4522-94f3-89f78600a702"
      },
      "execution_count": 42,
      "outputs": [
        {
          "output_type": "stream",
          "name": "stdout",
          "text": [
            "Best Parameter: (575, 0.07252427259161259)\n"
          ]
        },
        {
          "output_type": "execute_result",
          "data": {
            "text/plain": [
              "{'Type 1': (0, 0.2668286800661275),\n",
              " 'Type 2': (1, 0.27640258324648675),\n",
              " 'Total': (575, 0.07252427259161259),\n",
              " 'HP': (78, 0.20358923727457512),\n",
              " 'Attack': (84, 0.22526124776983583),\n",
              " 'Defense': (69, 0.23010950026341978),\n",
              " 'Sp. Atk': (69, 0.21094305050561515),\n",
              " 'Sp. Def': (71, 0.2145090908500026),\n",
              " 'Speed': (89, 0.21713504658419594)}"
            ]
          },
          "metadata": {},
          "execution_count": 42
        }
      ]
    },
    {
      "cell_type": "code",
      "source": [
        "# print the MAE of the OneR classification result on validation dataset\n",
        "m = DecisionTreeClassifier(max_leaf_nodes=4).fit(trn_xs, trn_y);\n",
        "draw_tree(m, trn_xs, size=10)\n"
      ],
      "metadata": {
        "id": "DO6QbsWsEldF",
        "colab": {
          "base_uri": "https://localhost:8080/",
          "height": 519
        },
        "outputId": "4706fa3c-a41f-4b1a-b1e7-ae969fa1eb4d"
      },
      "execution_count": 43,
      "outputs": [
        {
          "output_type": "execute_result",
          "data": {
            "text/plain": [
              "<graphviz.files.Source at 0x7f4ffb481ad0>"
            ],
            "image/svg+xml": "<?xml version=\"1.0\" encoding=\"UTF-8\" standalone=\"no\"?>\n<!DOCTYPE svg PUBLIC \"-//W3C//DTD SVG 1.1//EN\"\n \"http://www.w3.org/Graphics/SVG/1.1/DTD/svg11.dtd\">\n<!-- Generated by graphviz version 2.40.1 (20161225.0304)\n -->\n<!-- Title: Tree Pages: 1 -->\n<svg width=\"617pt\" height=\"373pt\"\n viewBox=\"0.00 0.00 617.16 373.00\" xmlns=\"http://www.w3.org/2000/svg\" xmlns:xlink=\"http://www.w3.org/1999/xlink\">\n<g id=\"graph0\" class=\"graph\" transform=\"scale(1 1) rotate(0) translate(4 369)\">\n<title>Tree</title>\n<polygon fill=\"#ffffff\" stroke=\"transparent\" points=\"-4,4 -4,-369 613.1621,-369 613.1621,4 -4,4\"/>\n<!-- 0 -->\n<g id=\"node1\" class=\"node\">\n<title>0</title>\n<path fill=\"#e78d4c\" stroke=\"#000000\" d=\"M257.198,-365C257.198,-365 157.198,-365 157.198,-365 151.198,-365 145.198,-359 145.198,-353 145.198,-353 145.198,-309 145.198,-309 145.198,-303 151.198,-297 157.198,-297 157.198,-297 257.198,-297 257.198,-297 263.198,-297 269.198,-303 269.198,-309 269.198,-309 269.198,-353 269.198,-353 269.198,-359 263.198,-365 257.198,-365\"/>\n<text text-anchor=\"start\" x=\"165.698\" y=\"-349.8\" font-family=\"Helvetica,sans-Serif\" font-size=\"14.00\" fill=\"#000000\">Total ≤ 577.5</text>\n<text text-anchor=\"start\" x=\"173.698\" y=\"-334.8\" font-family=\"Helvetica,sans-Serif\" font-size=\"14.00\" fill=\"#000000\">gini = 0.16</text>\n<text text-anchor=\"start\" x=\"159.198\" y=\"-319.8\" font-family=\"Helvetica,sans-Serif\" font-size=\"14.00\" fill=\"#000000\">samples = 600</text>\n<text text-anchor=\"start\" x=\"153.198\" y=\"-304.8\" font-family=\"Helvetica,sans-Serif\" font-size=\"14.00\" fill=\"#000000\">value = [548, 52]</text>\n</g>\n<!-- 1 -->\n<g id=\"node2\" class=\"node\">\n<title>1</title>\n<path fill=\"#e58139\" stroke=\"#000000\" d=\"M142.198,-253.5C142.198,-253.5 50.198,-253.5 50.198,-253.5 44.198,-253.5 38.198,-247.5 38.198,-241.5 38.198,-241.5 38.198,-212.5 38.198,-212.5 38.198,-206.5 44.198,-200.5 50.198,-200.5 50.198,-200.5 142.198,-200.5 142.198,-200.5 148.198,-200.5 154.198,-206.5 154.198,-212.5 154.198,-212.5 154.198,-241.5 154.198,-241.5 154.198,-247.5 148.198,-253.5 142.198,-253.5\"/>\n<text text-anchor=\"start\" x=\"66.698\" y=\"-238.3\" font-family=\"Helvetica,sans-Serif\" font-size=\"14.00\" fill=\"#000000\">gini = 0.0</text>\n<text text-anchor=\"start\" x=\"48.198\" y=\"-223.3\" font-family=\"Helvetica,sans-Serif\" font-size=\"14.00\" fill=\"#000000\">samples = 512</text>\n<text text-anchor=\"start\" x=\"46.198\" y=\"-208.3\" font-family=\"Helvetica,sans-Serif\" font-size=\"14.00\" fill=\"#000000\">value = [512, 0]</text>\n</g>\n<!-- 0&#45;&gt;1 -->\n<g id=\"edge1\" class=\"edge\">\n<title>0&#45;&gt;1</title>\n<path fill=\"none\" stroke=\"#000000\" d=\"M170.8525,-296.9465C158.3908,-285.2707 144.4606,-272.219 132.0392,-260.5809\"/>\n<polygon fill=\"#000000\" stroke=\"#000000\" points=\"134.2171,-257.8253 124.5267,-253.5422 129.4311,-262.9335 134.2171,-257.8253\"/>\n<text text-anchor=\"middle\" x=\"125.3402\" y=\"-274.8289\" font-family=\"Helvetica,sans-Serif\" font-size=\"14.00\" fill=\"#000000\">True</text>\n</g>\n<!-- 2 -->\n<g id=\"node3\" class=\"node\">\n<title>2</title>\n<path fill=\"#c2e1f7\" stroke=\"#000000\" d=\"M364.198,-261C364.198,-261 272.198,-261 272.198,-261 266.198,-261 260.198,-255 260.198,-249 260.198,-249 260.198,-205 260.198,-205 260.198,-199 266.198,-193 272.198,-193 272.198,-193 364.198,-193 364.198,-193 370.198,-193 376.198,-199 376.198,-205 376.198,-205 376.198,-249 376.198,-249 376.198,-255 370.198,-261 364.198,-261\"/>\n<text text-anchor=\"start\" x=\"271.698\" y=\"-245.8\" font-family=\"Helvetica,sans-Serif\" font-size=\"14.00\" fill=\"#000000\">Attack ≤ 131.5</text>\n<text text-anchor=\"start\" x=\"284.698\" y=\"-230.8\" font-family=\"Helvetica,sans-Serif\" font-size=\"14.00\" fill=\"#000000\">gini = 0.48</text>\n<text text-anchor=\"start\" x=\"274.198\" y=\"-215.8\" font-family=\"Helvetica,sans-Serif\" font-size=\"14.00\" fill=\"#000000\">samples = 88</text>\n<text text-anchor=\"start\" x=\"268.198\" y=\"-200.8\" font-family=\"Helvetica,sans-Serif\" font-size=\"14.00\" fill=\"#000000\">value = [36, 52]</text>\n</g>\n<!-- 0&#45;&gt;2 -->\n<g id=\"edge2\" class=\"edge\">\n<title>0&#45;&gt;2</title>\n<path fill=\"none\" stroke=\"#000000\" d=\"M243.5436,-296.9465C253.4139,-287.6986 264.2055,-277.5876 274.439,-267.9994\"/>\n<polygon fill=\"#000000\" stroke=\"#000000\" points=\"276.8664,-270.5214 281.7708,-261.13 272.0803,-265.4131 276.8664,-270.5214\"/>\n<text text-anchor=\"middle\" x=\"280.9573\" y=\"-282.4168\" font-family=\"Helvetica,sans-Serif\" font-size=\"14.00\" fill=\"#000000\">False</text>\n</g>\n<!-- 3 -->\n<g id=\"node4\" class=\"node\">\n<title>3</title>\n<path fill=\"#8ec7f0\" stroke=\"#000000\" d=\"M253.198,-149.5C253.198,-149.5 161.198,-149.5 161.198,-149.5 155.198,-149.5 149.198,-143.5 149.198,-137.5 149.198,-137.5 149.198,-108.5 149.198,-108.5 149.198,-102.5 155.198,-96.5 161.198,-96.5 161.198,-96.5 253.198,-96.5 253.198,-96.5 259.198,-96.5 265.198,-102.5 265.198,-108.5 265.198,-108.5 265.198,-137.5 265.198,-137.5 265.198,-143.5 259.198,-149.5 253.198,-149.5\"/>\n<text text-anchor=\"start\" x=\"173.698\" y=\"-134.3\" font-family=\"Helvetica,sans-Serif\" font-size=\"14.00\" fill=\"#000000\">gini = 0.42</text>\n<text text-anchor=\"start\" x=\"163.198\" y=\"-119.3\" font-family=\"Helvetica,sans-Serif\" font-size=\"14.00\" fill=\"#000000\">samples = 63</text>\n<text text-anchor=\"start\" x=\"157.198\" y=\"-104.3\" font-family=\"Helvetica,sans-Serif\" font-size=\"14.00\" fill=\"#000000\">value = [19, 44]</text>\n</g>\n<!-- 2&#45;&gt;3 -->\n<g id=\"edge3\" class=\"edge\">\n<title>2&#45;&gt;3</title>\n<path fill=\"none\" stroke=\"#000000\" d=\"M281.8525,-192.9465C269.3908,-181.2707 255.4606,-168.219 243.0392,-156.5809\"/>\n<polygon fill=\"#000000\" stroke=\"#000000\" points=\"245.2171,-153.8253 235.5267,-149.5422 240.4311,-158.9335 245.2171,-153.8253\"/>\n</g>\n<!-- 4 -->\n<g id=\"node5\" class=\"node\">\n<title>4</title>\n<path fill=\"#f1bc96\" stroke=\"#000000\" d=\"M472.198,-157C472.198,-157 382.198,-157 382.198,-157 376.198,-157 370.198,-151 370.198,-145 370.198,-145 370.198,-101 370.198,-101 370.198,-95 376.198,-89 382.198,-89 382.198,-89 472.198,-89 472.198,-89 478.198,-89 484.198,-95 484.198,-101 484.198,-101 484.198,-145 484.198,-145 484.198,-151 478.198,-157 472.198,-157\"/>\n<text text-anchor=\"start\" x=\"378.198\" y=\"-141.8\" font-family=\"Helvetica,sans-Serif\" font-size=\"14.00\" fill=\"#000000\">Sp. Atk ≤ 145.0</text>\n<text text-anchor=\"start\" x=\"393.698\" y=\"-126.8\" font-family=\"Helvetica,sans-Serif\" font-size=\"14.00\" fill=\"#000000\">gini = 0.44</text>\n<text text-anchor=\"start\" x=\"383.198\" y=\"-111.8\" font-family=\"Helvetica,sans-Serif\" font-size=\"14.00\" fill=\"#000000\">samples = 25</text>\n<text text-anchor=\"start\" x=\"381.698\" y=\"-96.8\" font-family=\"Helvetica,sans-Serif\" font-size=\"14.00\" fill=\"#000000\">value = [17, 8]</text>\n</g>\n<!-- 2&#45;&gt;4 -->\n<g id=\"edge4\" class=\"edge\">\n<title>2&#45;&gt;4</title>\n<path fill=\"none\" stroke=\"#000000\" d=\"M353.8887,-192.9465C363.4871,-183.7884 373.9727,-173.7838 383.9346,-164.2788\"/>\n<polygon fill=\"#000000\" stroke=\"#000000\" points=\"386.6082,-166.5655 391.4271,-157.13 381.7759,-161.5009 386.6082,-166.5655\"/>\n</g>\n<!-- 5 -->\n<g id=\"node6\" class=\"node\">\n<title>5</title>\n<path fill=\"#ea975c\" stroke=\"#000000\" d=\"M367.698,-52.5C367.698,-52.5 284.698,-52.5 284.698,-52.5 278.698,-52.5 272.698,-46.5 272.698,-40.5 272.698,-40.5 272.698,-11.5 272.698,-11.5 272.698,-5.5 278.698,.5 284.698,.5 284.698,.5 367.698,.5 367.698,.5 373.698,.5 379.698,-5.5 379.698,-11.5 379.698,-11.5 379.698,-40.5 379.698,-40.5 379.698,-46.5 373.698,-52.5 367.698,-52.5\"/>\n<text text-anchor=\"start\" x=\"292.698\" y=\"-37.3\" font-family=\"Helvetica,sans-Serif\" font-size=\"14.00\" fill=\"#000000\">gini = 0.26</text>\n<text text-anchor=\"start\" x=\"282.198\" y=\"-22.3\" font-family=\"Helvetica,sans-Serif\" font-size=\"14.00\" fill=\"#000000\">samples = 20</text>\n<text text-anchor=\"start\" x=\"280.698\" y=\"-7.3\" font-family=\"Helvetica,sans-Serif\" font-size=\"14.00\" fill=\"#000000\">value = [17, 3]</text>\n</g>\n<!-- 4&#45;&gt;5 -->\n<g id=\"edge5\" class=\"edge\">\n<title>4&#45;&gt;5</title>\n<path fill=\"none\" stroke=\"#000000\" d=\"M391.5892,-88.8014C381.723,-79.326 371.024,-69.0507 361.1932,-59.6092\"/>\n<polygon fill=\"#000000\" stroke=\"#000000\" points=\"363.5097,-56.9813 353.8729,-52.5788 358.6609,-62.03 363.5097,-56.9813\"/>\n</g>\n<!-- 6 -->\n<g id=\"node7\" class=\"node\">\n<title>6</title>\n<path fill=\"#399de5\" stroke=\"#000000\" d=\"M564.698,-52.5C564.698,-52.5 489.698,-52.5 489.698,-52.5 483.698,-52.5 477.698,-46.5 477.698,-40.5 477.698,-40.5 477.698,-11.5 477.698,-11.5 477.698,-5.5 483.698,.5 489.698,.5 489.698,.5 564.698,.5 564.698,.5 570.698,.5 576.698,-5.5 576.698,-11.5 576.698,-11.5 576.698,-40.5 576.698,-40.5 576.698,-46.5 570.698,-52.5 564.698,-52.5\"/>\n<text text-anchor=\"start\" x=\"497.698\" y=\"-37.3\" font-family=\"Helvetica,sans-Serif\" font-size=\"14.00\" fill=\"#000000\">gini = 0.0</text>\n<text text-anchor=\"start\" x=\"487.698\" y=\"-22.3\" font-family=\"Helvetica,sans-Serif\" font-size=\"14.00\" fill=\"#000000\">samples = 5</text>\n<text text-anchor=\"start\" x=\"485.698\" y=\"-7.3\" font-family=\"Helvetica,sans-Serif\" font-size=\"14.00\" fill=\"#000000\">value = [0, 5]</text>\n</g>\n<!-- 4&#45;&gt;6 -->\n<g id=\"edge6\" class=\"edge\">\n<title>4&#45;&gt;6</title>\n<path fill=\"none\" stroke=\"#000000\" d=\"M462.4543,-88.8014C472.2228,-79.326 482.8158,-69.0507 492.5493,-59.6092\"/>\n<polygon fill=\"#000000\" stroke=\"#000000\" points=\"495.0561,-62.0537 499.7971,-52.5788 490.1823,-57.0292 495.0561,-62.0537\"/>\n</g>\n</g>\n</svg>\n"
          },
          "metadata": {},
          "execution_count": 43
        }
      ]
    },
    {
      "cell_type": "code",
      "source": [
        "mean_absolute_error(val_y,m.predict(val_xs))"
      ],
      "metadata": {
        "colab": {
          "base_uri": "https://localhost:8080/"
        },
        "id": "pIDiK13dioI2",
        "outputId": "d1d5e61b-1033-4c65-e587-2b1e1251022a"
      },
      "execution_count": 44,
      "outputs": [
        {
          "output_type": "execute_result",
          "data": {
            "text/plain": [
              "0.055"
            ]
          },
          "metadata": {},
          "execution_count": 44
        }
      ]
    },
    {
      "cell_type": "code",
      "source": [
        "# create&train decision tree classifier\n",
        "m = DecisionTreeClassifier(min_samples_leaf=50)\n",
        "m.fit(trn_xs, trn_y)\n"
      ],
      "metadata": {
        "id": "jlQbnswhDH6w",
        "colab": {
          "base_uri": "https://localhost:8080/"
        },
        "outputId": "473600c4-0e7b-4107-de33-3ad71de69f45"
      },
      "execution_count": 45,
      "outputs": [
        {
          "output_type": "execute_result",
          "data": {
            "text/plain": [
              "DecisionTreeClassifier(min_samples_leaf=50)"
            ]
          },
          "metadata": {},
          "execution_count": 45
        }
      ]
    },
    {
      "cell_type": "code",
      "source": [
        "# show the MAE of the decision tree classification result on validation dataset\n",
        "mean_absolute_error(val_y, m.predict(val_xs))\n"
      ],
      "metadata": {
        "id": "PTJ3w_CIGHEN",
        "colab": {
          "base_uri": "https://localhost:8080/"
        },
        "outputId": "b235ec5d-270e-4312-8d76-275075b6f403"
      },
      "execution_count": 46,
      "outputs": [
        {
          "output_type": "execute_result",
          "data": {
            "text/plain": [
              "0.065"
            ]
          },
          "metadata": {},
          "execution_count": 46
        }
      ]
    },
    {
      "cell_type": "code",
      "source": [
        "# show the graph of the trained decision tree classifier.\n",
        "draw_tree(m, trn_xs, size=10)"
      ],
      "metadata": {
        "id": "gN7jdNX-ENUW",
        "colab": {
          "base_uri": "https://localhost:8080/",
          "height": 241
        },
        "outputId": "8545ba0a-e44f-4503-d122-4daf12092143"
      },
      "execution_count": 47,
      "outputs": [
        {
          "output_type": "execute_result",
          "data": {
            "text/plain": [
              "<graphviz.files.Source at 0x7f4ffb4120d0>"
            ],
            "image/svg+xml": "<?xml version=\"1.0\" encoding=\"UTF-8\" standalone=\"no\"?>\n<!DOCTYPE svg PUBLIC \"-//W3C//DTD SVG 1.1//EN\"\n \"http://www.w3.org/Graphics/SVG/1.1/DTD/svg11.dtd\">\n<!-- Generated by graphviz version 2.40.1 (20161225.0304)\n -->\n<!-- Title: Tree Pages: 1 -->\n<svg width=\"270pt\" height=\"165pt\"\n viewBox=\"0.00 0.00 269.67 165.00\" xmlns=\"http://www.w3.org/2000/svg\" xmlns:xlink=\"http://www.w3.org/1999/xlink\">\n<g id=\"graph0\" class=\"graph\" transform=\"scale(1 1) rotate(0) translate(4 161)\">\n<title>Tree</title>\n<polygon fill=\"#ffffff\" stroke=\"transparent\" points=\"-4,4 -4,-161 265.6667,-161 265.6667,4 -4,4\"/>\n<!-- 0 -->\n<g id=\"node1\" class=\"node\">\n<title>0</title>\n<path fill=\"#e78d4c\" stroke=\"#000000\" d=\"M180.8333,-157C180.8333,-157 80.8333,-157 80.8333,-157 74.8333,-157 68.8333,-151 68.8333,-145 68.8333,-145 68.8333,-101 68.8333,-101 68.8333,-95 74.8333,-89 80.8333,-89 80.8333,-89 180.8333,-89 180.8333,-89 186.8333,-89 192.8333,-95 192.8333,-101 192.8333,-101 192.8333,-145 192.8333,-145 192.8333,-151 186.8333,-157 180.8333,-157\"/>\n<text text-anchor=\"start\" x=\"89.3333\" y=\"-141.8\" font-family=\"Helvetica,sans-Serif\" font-size=\"14.00\" fill=\"#000000\">Total ≤ 577.5</text>\n<text text-anchor=\"start\" x=\"97.3333\" y=\"-126.8\" font-family=\"Helvetica,sans-Serif\" font-size=\"14.00\" fill=\"#000000\">gini = 0.16</text>\n<text text-anchor=\"start\" x=\"82.8333\" y=\"-111.8\" font-family=\"Helvetica,sans-Serif\" font-size=\"14.00\" fill=\"#000000\">samples = 600</text>\n<text text-anchor=\"start\" x=\"76.8333\" y=\"-96.8\" font-family=\"Helvetica,sans-Serif\" font-size=\"14.00\" fill=\"#000000\">value = [548, 52]</text>\n</g>\n<!-- 1 -->\n<g id=\"node2\" class=\"node\">\n<title>1</title>\n<path fill=\"#e58139\" stroke=\"#000000\" d=\"M106.8333,-52.5C106.8333,-52.5 14.8333,-52.5 14.8333,-52.5 8.8333,-52.5 2.8333,-46.5 2.8333,-40.5 2.8333,-40.5 2.8333,-11.5 2.8333,-11.5 2.8333,-5.5 8.8333,.5 14.8333,.5 14.8333,.5 106.8333,.5 106.8333,.5 112.8333,.5 118.8333,-5.5 118.8333,-11.5 118.8333,-11.5 118.8333,-40.5 118.8333,-40.5 118.8333,-46.5 112.8333,-52.5 106.8333,-52.5\"/>\n<text text-anchor=\"start\" x=\"31.3333\" y=\"-37.3\" font-family=\"Helvetica,sans-Serif\" font-size=\"14.00\" fill=\"#000000\">gini = 0.0</text>\n<text text-anchor=\"start\" x=\"12.8333\" y=\"-22.3\" font-family=\"Helvetica,sans-Serif\" font-size=\"14.00\" fill=\"#000000\">samples = 512</text>\n<text text-anchor=\"start\" x=\"10.8333\" y=\"-7.3\" font-family=\"Helvetica,sans-Serif\" font-size=\"14.00\" fill=\"#000000\">value = [512, 0]</text>\n</g>\n<!-- 0&#45;&gt;1 -->\n<g id=\"edge1\" class=\"edge\">\n<title>0&#45;&gt;1</title>\n<path fill=\"none\" stroke=\"#000000\" d=\"M106.154,-88.8014C99.5842,-79.6976 92.4816,-69.8554 85.8917,-60.7237\"/>\n<polygon fill=\"#000000\" stroke=\"#000000\" points=\"88.704,-58.6397 80.0139,-52.5788 83.0277,-62.736 88.704,-58.6397\"/>\n<text text-anchor=\"middle\" x=\"76.0238\" y=\"-73.5584\" font-family=\"Helvetica,sans-Serif\" font-size=\"14.00\" fill=\"#000000\">True</text>\n</g>\n<!-- 2 -->\n<g id=\"node3\" class=\"node\">\n<title>2</title>\n<path fill=\"#c2e1f7\" stroke=\"#000000\" d=\"M246.8333,-52.5C246.8333,-52.5 154.8333,-52.5 154.8333,-52.5 148.8333,-52.5 142.8333,-46.5 142.8333,-40.5 142.8333,-40.5 142.8333,-11.5 142.8333,-11.5 142.8333,-5.5 148.8333,.5 154.8333,.5 154.8333,.5 246.8333,.5 246.8333,.5 252.8333,.5 258.8333,-5.5 258.8333,-11.5 258.8333,-11.5 258.8333,-40.5 258.8333,-40.5 258.8333,-46.5 252.8333,-52.5 246.8333,-52.5\"/>\n<text text-anchor=\"start\" x=\"167.3333\" y=\"-37.3\" font-family=\"Helvetica,sans-Serif\" font-size=\"14.00\" fill=\"#000000\">gini = 0.48</text>\n<text text-anchor=\"start\" x=\"156.8333\" y=\"-22.3\" font-family=\"Helvetica,sans-Serif\" font-size=\"14.00\" fill=\"#000000\">samples = 88</text>\n<text text-anchor=\"start\" x=\"150.8333\" y=\"-7.3\" font-family=\"Helvetica,sans-Serif\" font-size=\"14.00\" fill=\"#000000\">value = [36, 52]</text>\n</g>\n<!-- 0&#45;&gt;2 -->\n<g id=\"edge2\" class=\"edge\">\n<title>0&#45;&gt;2</title>\n<path fill=\"none\" stroke=\"#000000\" d=\"M155.5127,-88.8014C162.0825,-79.6976 169.1851,-69.8554 175.775,-60.7237\"/>\n<polygon fill=\"#000000\" stroke=\"#000000\" points=\"178.639,-62.736 181.6527,-52.5788 172.9627,-58.6397 178.639,-62.736\"/>\n<text text-anchor=\"middle\" x=\"185.6428\" y=\"-73.5584\" font-family=\"Helvetica,sans-Serif\" font-size=\"14.00\" fill=\"#000000\">False</text>\n</g>\n</g>\n</svg>\n"
          },
          "metadata": {},
          "execution_count": 47
        }
      ]
    },
    {
      "cell_type": "code",
      "source": [
        "# create random forest classifier\n",
        "from sklearn.ensemble import RandomForestClassifier\n",
        "rf = RandomForestClassifier(100, min_samples_leaf=5)\n",
        "rf.fit(trn_xs, trn_y);\n",
        "rf"
      ],
      "metadata": {
        "id": "XAzKdtPZGyOG",
        "colab": {
          "base_uri": "https://localhost:8080/"
        },
        "outputId": "bdc2095e-4f5a-4903-b2cd-b6c4ca8a1245"
      },
      "execution_count": 48,
      "outputs": [
        {
          "output_type": "execute_result",
          "data": {
            "text/plain": [
              "RandomForestClassifier(min_samples_leaf=5)"
            ]
          },
          "metadata": {},
          "execution_count": 48
        }
      ]
    },
    {
      "cell_type": "code",
      "source": [
        "# show the MAE of the random forest classification result on validation dataset\n",
        "mean_absolute_error(val_y, rf.predict(val_xs))"
      ],
      "metadata": {
        "id": "pkn7f5zGESgf",
        "colab": {
          "base_uri": "https://localhost:8080/"
        },
        "outputId": "1199e2a2-2b81-4191-d22d-394271043f49"
      },
      "execution_count": 49,
      "outputs": [
        {
          "output_type": "execute_result",
          "data": {
            "text/plain": [
              "0.065"
            ]
          },
          "metadata": {},
          "execution_count": 49
        }
      ]
    }
  ]
}